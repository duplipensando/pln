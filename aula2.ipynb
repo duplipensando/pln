{
  "nbformat": 4,
  "nbformat_minor": 0,
  "metadata": {
    "colab": {
      "name": "aula2.ipynb",
      "provenance": [],
      "collapsed_sections": [],
      "mount_file_id": "1DYvb0WZjcQoXShpLzsk2VSUespRqNPMo",
      "authorship_tag": "ABX9TyOoTvGyysWIsseFhyGSwaFh",
      "include_colab_link": true
    },
    "kernelspec": {
      "name": "python3",
      "display_name": "Python 3"
    },
    "language_info": {
      "name": "python"
    }
  },
  "cells": [
    {
      "cell_type": "markdown",
      "metadata": {
        "id": "view-in-github",
        "colab_type": "text"
      },
      "source": [
        "<a href=\"https://colab.research.google.com/github/duplipensando/pln/blob/main/aula2.ipynb\" target=\"_parent\"><img src=\"https://colab.research.google.com/assets/colab-badge.svg\" alt=\"Open In Colab\"/></a>"
      ]
    },
    {
      "cell_type": "code",
      "metadata": {
        "id": "muoUE6ee7xq8"
      },
      "source": [
        ""
      ],
      "execution_count": null,
      "outputs": []
    },
    {
      "cell_type": "code",
      "metadata": {
        "id": "cdiqQadQIXFU"
      },
      "source": [
        ""
      ],
      "execution_count": null,
      "outputs": []
    },
    {
      "cell_type": "markdown",
      "metadata": {
        "id": "KgjqQCsGIYn-"
      },
      "source": [
        "Executar código: ctrl+enter\n",
        "executar todos os blocos de código: ctrl+F9\n",
        "Para adicionar uma linha de código: ctrl+m+b\n",
        "Para executar uma linha de código e adicionar outra: alt+enter\n",
        "\n",
        "lista são mutáveis e entre colchetes.\n",
        "abaixo 3 formar de crias listas e depois métodos que podem ser usados\n",
        "\n",
        "tuplas são imutáveis e entre parênteses:"
      ]
    },
    {
      "cell_type": "code",
      "metadata": {
        "id": "GQ1SaUs5pSi1"
      },
      "source": [
        "lista = []\n",
        "lista = list(range(5))\n",
        "lista = [0,1,2,3,4]"
      ],
      "execution_count": null,
      "outputs": []
    },
    {
      "cell_type": "markdown",
      "metadata": {
        "id": "rF5Rx9uCqfsR"
      },
      "source": [
        "**esse método anexa um objeto ao fim da lista:**"
      ]
    },
    {
      "cell_type": "code",
      "metadata": {
        "id": "5-sx5P46qXKp"
      },
      "source": [
        "lista.append(5)\n",
        "print(lista)"
      ],
      "execution_count": null,
      "outputs": []
    },
    {
      "cell_type": "markdown",
      "metadata": {
        "id": "NoPmtQeeq5dm"
      },
      "source": [
        "**alterar um elemento dentro da lista:**"
      ]
    },
    {
      "cell_type": "code",
      "metadata": {
        "id": "jWECydJprKMM"
      },
      "source": [
        "lista[1] = 10\n",
        "print(lista)"
      ],
      "execution_count": null,
      "outputs": []
    },
    {
      "cell_type": "markdown",
      "metadata": {
        "id": "ULox9bFZrRsn"
      },
      "source": [
        "**inserir elemento em uma posição:**"
      ]
    },
    {
      "cell_type": "code",
      "metadata": {
        "colab": {
          "base_uri": "https://localhost:8080/"
        },
        "id": "23S6IFh-rW5d",
        "outputId": "1d36d3fd-63f2-4293-8dca-fd6be9b3e8f9"
      },
      "source": [
        "lista = []\n",
        "lista = list(range(5))\n",
        "lista.insert(0,3)\n",
        "print(lista)"
      ],
      "execution_count": null,
      "outputs": [
        {
          "output_type": "stream",
          "name": "stdout",
          "text": [
            "[3, 0, 1, 2, 3, 4]\n"
          ]
        }
      ]
    },
    {
      "cell_type": "markdown",
      "metadata": {
        "id": "TvplDD6vsqmm"
      },
      "source": [
        "**reverter a ordem dos elementos dentro da lista:**"
      ]
    },
    {
      "cell_type": "code",
      "metadata": {
        "colab": {
          "base_uri": "https://localhost:8080/"
        },
        "id": "yS_t4mHNsyaI",
        "outputId": "056fad4c-c158-430a-e4b2-f4d580bb67a4"
      },
      "source": [
        "lista.reverse()\n",
        "print(lista)"
      ],
      "execution_count": null,
      "outputs": [
        {
          "output_type": "stream",
          "name": "stdout",
          "text": [
            "[4, 3, 2, 1, 0, 3]\n"
          ]
        }
      ]
    },
    {
      "cell_type": "markdown",
      "metadata": {
        "id": "XZ4hxtgd1qzy"
      },
      "source": [
        "**ordernar a lista de forma crescente:**"
      ]
    },
    {
      "cell_type": "code",
      "metadata": {
        "id": "PVhZZdjt15q7"
      },
      "source": [
        "lista.sort()\n",
        "print(lista)"
      ],
      "execution_count": null,
      "outputs": []
    },
    {
      "cell_type": "markdown",
      "metadata": {
        "id": "YZxkI84w2Bf9"
      },
      "source": [
        "esse método conta elementos:\n"
      ]
    },
    {
      "cell_type": "code",
      "metadata": {
        "id": "Ptq8F6yH2J00"
      },
      "source": [
        "lista.count(5)"
      ],
      "execution_count": null,
      "outputs": []
    },
    {
      "cell_type": "markdown",
      "metadata": {
        "id": "XDYNTwaS2Qed"
      },
      "source": [
        "saber a primeira ocorrência de um elemento na lista:\n"
      ]
    },
    {
      "cell_type": "code",
      "metadata": {
        "id": "CL6muHKM2YFO"
      },
      "source": [
        "lista.index(4)\n"
      ],
      "execution_count": null,
      "outputs": []
    },
    {
      "cell_type": "markdown",
      "metadata": {
        "id": "A7wGKImc2gH4"
      },
      "source": [
        "slice: sublistas, cortar a partir do elemento: até o elemento. a notação entre colchetes é o intervalo que quero cortar na lista"
      ]
    },
    {
      "cell_type": "code",
      "metadata": {
        "id": "BPgXzXA52itb"
      },
      "source": [
        "lista2 = list(range(10))\n",
        "print(lista2)\n",
        "print(lista2[2:7])"
      ],
      "execution_count": null,
      "outputs": []
    },
    {
      "cell_type": "markdown",
      "metadata": {
        "id": "tSPaT2e-3ZE_"
      },
      "source": [
        "pular elementos na lista:\n"
      ]
    },
    {
      "cell_type": "code",
      "metadata": {
        "colab": {
          "base_uri": "https://localhost:8080/"
        },
        "id": "F87tXb-Q3fjm",
        "outputId": "fb8039ee-453c-47b5-ac88-1996eaf9971a"
      },
      "source": [
        "lista2 = list(range(10))\n",
        "print(lista2)\n",
        "print(lista2[2:7:2])"
      ],
      "execution_count": null,
      "outputs": [
        {
          "output_type": "stream",
          "name": "stdout",
          "text": [
            "[0, 1, 2, 3, 4, 5, 6, 7, 8, 9]\n",
            "[2, 4, 6]\n"
          ]
        }
      ]
    },
    {
      "cell_type": "markdown",
      "metadata": {
        "id": "DEEvBR8M3-nH"
      },
      "source": [
        "**adicionar comentários:**"
      ]
    },
    {
      "cell_type": "code",
      "metadata": {
        "id": "fOewA1rK556R"
      },
      "source": [
        "#código comentado"
      ],
      "execution_count": null,
      "outputs": []
    },
    {
      "cell_type": "code",
      "metadata": {
        "colab": {
          "base_uri": "https://localhost:8080/"
        },
        "id": "YKBBFb0l7MAm",
        "outputId": "2187382b-e230-4e29-fa88-dace9de48c41"
      },
      "source": [
        "lista3 = ['um', 'dois', 'três']\n",
        "lista3.sort()\n",
        "print(lista3)\n"
      ],
      "execution_count": null,
      "outputs": [
        {
          "output_type": "stream",
          "name": "stdout",
          "text": [
            "['dois', 'três', 'um']\n"
          ]
        }
      ]
    },
    {
      "cell_type": "markdown",
      "metadata": {
        "id": "EtuWTC8h7gjG"
      },
      "source": [
        "**tuplas**\n",
        "imutáveis (representam elemntos que não devem ser modificados: vetores dos embeddings e classes morfossintáticas retornadas por um tagger (intiquetador);\n",
        "antes eram as únicas heterogêneos, com tipos de dados diferentes (int, string, booleanos), agora listas tb são.\n",
        "não pode usar métodos para modificar elementos, apenas lá na atribuição da variável.\n",
        "apenas count() e o index() estão disponíveis, pois eles apenas pegam informações, não modificam!\n",
        "sintaxe com parênteses;\n",
        "\n",
        "```\n",
        "# Isto está formatado como código\n",
        "```\n",
        "\n",
        "\n"
      ]
    },
    {
      "cell_type": "code",
      "metadata": {
        "id": "XIVkbQAq8Td8"
      },
      "source": [
        "t = (1, 'um', 2, 'dois')\n",
        "print(t)"
      ],
      "execution_count": null,
      "outputs": []
    },
    {
      "cell_type": "markdown",
      "metadata": {
        "id": "IEQ2dvX1-cLq"
      },
      "source": [
        "**dicionários**\n",
        "informações em pares chave-valor\n",
        "arrays associativos;\n",
        "é uma lista que podemos acessar seus elementos usando chave.\n",
        "inicio o dicionário com chaves:{}\n",
        "depois quando adiciono elementos uso colchetes: []"
      ]
    },
    {
      "cell_type": "code",
      "metadata": {
        "id": "y_68UuV0AwGL"
      },
      "source": [
        "[['um', 1], ['dois', 2] ['três',3]]"
      ],
      "execution_count": null,
      "outputs": []
    },
    {
      "cell_type": "code",
      "metadata": {
        "colab": {
          "base_uri": "https://localhost:8080/"
        },
        "id": "MFvo-m-uBNDt",
        "outputId": "d3ea3496-ae12-40a6-e059-170c94fcb032"
      },
      "source": [
        "dic = {}\n",
        "dic['um'] = 1\n",
        "dic['dois'] = 2\n",
        "dic['três'] = 3\n",
        "print(dic)\n",
        "dic['um']"
      ],
      "execution_count": null,
      "outputs": [
        {
          "output_type": "stream",
          "name": "stdout",
          "text": [
            "{'um': 1, 'dois': 2, 'três': 3}\n"
          ]
        },
        {
          "output_type": "execute_result",
          "data": {
            "text/plain": [
              "1"
            ]
          },
          "metadata": {},
          "execution_count": 11
        }
      ]
    },
    {
      "cell_type": "markdown",
      "metadata": {
        "id": "A-7X8JQACVL1"
      },
      "source": [
        "quais são as chaves do dicionário:\n"
      ]
    },
    {
      "cell_type": "code",
      "metadata": {
        "colab": {
          "base_uri": "https://localhost:8080/"
        },
        "id": "_TQB3GXrCYfQ",
        "outputId": "9a8dbf23-d831-4f8f-b5b1-a3b3017f020f"
      },
      "source": [
        "print(dic.keys())"
      ],
      "execution_count": null,
      "outputs": [
        {
          "output_type": "stream",
          "name": "stdout",
          "text": [
            "dict_keys(['um', 'dois', 'três'])\n"
          ]
        }
      ]
    },
    {
      "cell_type": "markdown",
      "metadata": {
        "id": "s8eeS30BCjJZ"
      },
      "source": [
        "quais os valores do dicionário:"
      ]
    },
    {
      "cell_type": "code",
      "metadata": {
        "colab": {
          "base_uri": "https://localhost:8080/"
        },
        "id": "wvYSxLTUCl1A",
        "outputId": "23c4e9cc-1422-48a2-cbec-8663c0595779"
      },
      "source": [
        "print(dic.values())"
      ],
      "execution_count": null,
      "outputs": [
        {
          "output_type": "stream",
          "name": "stdout",
          "text": [
            "dict_values([1, 2, 3])\n"
          ]
        }
      ]
    },
    {
      "cell_type": "markdown",
      "metadata": {
        "id": "NSiy1RFTDVRs"
      },
      "source": [
        "para pegar elementos específicos no dicionário, transformo em lista:"
      ]
    },
    {
      "cell_type": "code",
      "metadata": {
        "colab": {
          "base_uri": "https://localhost:8080/",
          "height": 35
        },
        "id": "kgA5WvV6DMa2",
        "outputId": "977dcf39-890b-4509-f371-f3d4c55cd9b5"
      },
      "source": [
        "list(dic.keys()) [0]"
      ],
      "execution_count": null,
      "outputs": [
        {
          "output_type": "execute_result",
          "data": {
            "application/vnd.google.colaboratory.intrinsic+json": {
              "type": "string"
            },
            "text/plain": [
              "'um'"
            ]
          },
          "metadata": {},
          "execution_count": 14
        }
      ]
    },
    {
      "cell_type": "markdown",
      "metadata": {
        "id": "1WX2T4QJDzhU"
      },
      "source": [
        "para saber todos os itens do dicionário: (vai retornar uma lista de tuplas com as chaves e os valores)"
      ]
    },
    {
      "cell_type": "code",
      "metadata": {
        "colab": {
          "base_uri": "https://localhost:8080/"
        },
        "id": "oIQ__FGzD-mk",
        "outputId": "b7768491-e80d-44b0-f9b6-b725622c55de"
      },
      "source": [
        "list(dic.items())"
      ],
      "execution_count": null,
      "outputs": [
        {
          "output_type": "execute_result",
          "data": {
            "text/plain": [
              "[('um', 1), ('dois', 2), ('três', 3)]"
            ]
          },
          "metadata": {},
          "execution_count": 15
        }
      ]
    },
    {
      "cell_type": "code",
      "metadata": {
        "colab": {
          "base_uri": "https://localhost:8080/"
        },
        "id": "ogbjJZo1E1M2",
        "outputId": "e4c41df2-bd94-4fc2-fada-1c248c433692"
      },
      "source": [
        "for chave, valor in dic.items():\n",
        "  print(chave,'teve nota', valor)"
      ],
      "execution_count": null,
      "outputs": [
        {
          "output_type": "stream",
          "name": "stdout",
          "text": [
            "um teve nota 1\n",
            "dois teve nota 2\n",
            "três teve nota 3\n"
          ]
        }
      ]
    },
    {
      "cell_type": "markdown",
      "metadata": {
        "id": "ZYyeS7-xIcwd"
      },
      "source": [
        "chaves podem ter todo tipos de dados, até outro dicionário dentro.\n"
      ]
    },
    {
      "cell_type": "markdown",
      "metadata": {
        "id": "0J_JdLH9ImmZ"
      },
      "source": [
        "**arquivos**\n",
        "uso o caminho do arquivo dentro de um string"
      ]
    },
    {
      "cell_type": "code",
      "metadata": {
        "id": "rcYX-YA-LWIM"
      },
      "source": [
        "#somente leitura do arquivo\n",
        "arquivo_entrada = open('/content/drive/', 'r')\n",
        "#substitui a info no arquivo, escreve\n",
        "arquivo_entrada = open('/content/drive/', 'w')\n",
        "#append adicionar informação ao arquivo\n",
        "arquivo_entrada = open('/content/drive/', 'a')\n",
        "#sempre fechar o arquivo com close()\n",
        "print(arquivo_entrada.read())\n",
        "#ou\n",
        "arquivo_lido = arquivo_entrada.read()\n",
        "print(arquivo_lido)"
      ],
      "execution_count": null,
      "outputs": []
    },
    {
      "cell_type": "code",
      "metadata": {
        "id": "0JmzzAYUOPvN"
      },
      "source": [
        "arquivo_lido = open('/content/drive/', 'w')\n",
        "arquivo_lido.write('escrever no arquivo')\n",
        "arquivo_lido.close()"
      ],
      "execution_count": null,
      "outputs": []
    },
    {
      "cell_type": "markdown",
      "metadata": {
        "id": "w7BmOHhlPzDn"
      },
      "source": [
        "não adiciona inteiros, é preciso forçar:\n",
        "\n"
      ]
    },
    {
      "cell_type": "code",
      "metadata": {
        "id": "3jsEcz1jP_Ps"
      },
      "source": [
        "arquivo_lido = open('/content/drive/', 'w')\n",
        "numero = 10\n",
        "arquivo_lido.write(str(numero))\n",
        "arquivo_lido.close()"
      ],
      "execution_count": null,
      "outputs": []
    }
  ]
}